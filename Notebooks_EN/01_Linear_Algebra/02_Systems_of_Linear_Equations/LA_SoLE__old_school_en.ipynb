{
  "cells": [
    {
      "cell_type": "markdown",
      "metadata": {
        "id": "T9BZO2I06ATg"
      },
      "source": [
        "# School Method for Solving Systems of Linear Equations"
      ]
    },
    {
      "cell_type": "code",
      "execution_count": 14,
      "metadata": {
        "id": "rlgz-flG6ATk"
      },
      "outputs": [],
      "source": [
        "import sympy as sp\n",
        "from sympy import symbols, Eq, expand, solve\n",
        "\n",
        "class EnhancedEq(Eq):\n",
        "    def __add__(self, other):\n",
        "        return EnhancedEq(self.lhs + other.lhs, self.rhs + other.rhs)\n",
        "\n",
        "    def __sub__(self, other):\n",
        "        return EnhancedEq(self.lhs - other.lhs, self.rhs - other.rhs)\n",
        "\n",
        "    def __mul__(self, scalar):\n",
        "        return EnhancedEq(scalar * self.lhs, scalar * self.rhs)\n",
        "\n",
        "    def __rmul__(self, scalar):\n",
        "        return self.__mul__(scalar)\n",
        "\n",
        "    def simplify(self):\n",
        "        return EnhancedEq(expand(self.lhs), expand(self.rhs))\n",
        "\n",
        "    def substitute(self, *args, **kwargs):\n",
        "        return EnhancedEq(self.lhs.subs(*args, **kwargs), self.rhs.subs(*args, **kwargs))\n",
        "\n",
        "    def solve_for(self, symbol):\n",
        "        return solve(self, symbol)\n",
        "\n",
        "# Example usage:\n",
        "x, y = symbols('x y')\n",
        "\n",
        "# Define equations\n",
        "eq1 = EnhancedEq(2*x + y, 5)\n",
        "eq2 = EnhancedEq(x - y, 1)"
      ]
    },
    {
      "cell_type": "code",
      "execution_count": 15,
      "metadata": {
        "id": "iFdyyUfl6ATm",
        "outputId": "deb7701e-3a03-4f11-f1df-ef75b991772c",
        "colab": {
          "base_uri": "https://localhost:8080/",
          "height": 56
        }
      },
      "outputs": [
        {
          "output_type": "stream",
          "name": "stdout",
          "text": [
            "First equation:\n"
          ]
        },
        {
          "output_type": "execute_result",
          "data": {
            "text/plain": [
              "Eq(2*x + y, 5)"
            ],
            "text/latex": "$\\displaystyle 2 x + y = 5$"
          },
          "metadata": {},
          "execution_count": 15
        }
      ],
      "source": [
        "print(\"First equation:\")\n",
        "eq1"
      ]
    },
    {
      "cell_type": "code",
      "execution_count": 16,
      "metadata": {
        "id": "mROt9q3O6ATn",
        "outputId": "d67d8f4c-e92f-4fc8-9948-768d3e97c2e2",
        "colab": {
          "base_uri": "https://localhost:8080/",
          "height": 56
        }
      },
      "outputs": [
        {
          "output_type": "stream",
          "name": "stdout",
          "text": [
            "Second equation:\n"
          ]
        },
        {
          "output_type": "execute_result",
          "data": {
            "text/plain": [
              "Eq(x - y, 1)"
            ],
            "text/latex": "$\\displaystyle x - y = 1$"
          },
          "metadata": {},
          "execution_count": 16
        }
      ],
      "source": [
        "print(\"Second equation:\")\n",
        "eq2"
      ]
    },
    {
      "cell_type": "code",
      "execution_count": 17,
      "metadata": {
        "id": "LthQvtbL6ATn",
        "outputId": "74f3ad06-e7e1-4c6c-f19c-e652d929d1de",
        "colab": {
          "base_uri": "https://localhost:8080/",
          "height": 39
        }
      },
      "outputs": [
        {
          "output_type": "execute_result",
          "data": {
            "text/plain": [
              "Eq(3*x, 6)"
            ],
            "text/latex": "$\\displaystyle 3 x = 6$"
          },
          "metadata": {},
          "execution_count": 17
        }
      ],
      "source": [
        "# Add the equations\n",
        "eq3 = eq1 + eq2\n",
        "eq3"
      ]
    },
    {
      "cell_type": "code",
      "execution_count": 18,
      "metadata": {
        "id": "Z1lEjjwt6ATn",
        "outputId": "387bac68-8202-4807-cfbc-0c4075df36fb",
        "colab": {
          "base_uri": "https://localhost:8080/",
          "height": 37
        }
      },
      "outputs": [
        {
          "output_type": "execute_result",
          "data": {
            "text/plain": [
              "2"
            ],
            "text/latex": "$\\displaystyle 2$"
          },
          "metadata": {},
          "execution_count": 18
        }
      ],
      "source": [
        "# We have an equation with one unknown, so we can solve it\n",
        "sol_x = eq3.solve_for(x)[0]\n",
        "sol_x"
      ]
    },
    {
      "cell_type": "code",
      "execution_count": 19,
      "metadata": {
        "id": "7CMq7Dr-6ATo",
        "outputId": "c0dadaca-0c60-4afe-b47a-7409f5580b11",
        "colab": {
          "base_uri": "https://localhost:8080/",
          "height": 39
        }
      },
      "outputs": [
        {
          "output_type": "execute_result",
          "data": {
            "text/plain": [
              "Eq(2 - y, 1)"
            ],
            "text/latex": "$\\displaystyle 2 - y = 1$"
          },
          "metadata": {},
          "execution_count": 19
        }
      ],
      "source": [
        "# Substitute the solution into equation 2\n",
        "eq2 = eq2.substitute(x, sol_x)\n",
        "eq2"
      ]
    },
    {
      "cell_type": "code",
      "execution_count": 20,
      "metadata": {
        "id": "bbL8vac66ATp",
        "outputId": "7ee2baae-fee1-4a30-ca63-5ad806eb457f",
        "colab": {
          "base_uri": "https://localhost:8080/",
          "height": 37
        }
      },
      "outputs": [
        {
          "output_type": "execute_result",
          "data": {
            "text/plain": [
              "1"
            ],
            "text/latex": "$\\displaystyle 1$"
          },
          "metadata": {},
          "execution_count": 20
        }
      ],
      "source": [
        "# We get an equation with one unknown, so we can solve it\n",
        "eq2.solve_for(y)[0]"
      ]
    },
    {
      "cell_type": "code",
      "execution_count": null,
      "metadata": {
        "id": "5G8XFWk_6ATp",
        "outputId": "192e4863-94e4-4066-c9d5-16f6e51fc975"
      },
      "outputs": [
        {
          "data": {
            "text/plain": [
              "{x: 2, y: 1}"
            ]
          },
          "execution_count": 8,
          "metadata": {},
          "output_type": "execute_result"
        }
      ],
      "source": [
        "# Thus x=2, y=1\n",
        "# Verify with sympy\n",
        "sp.solve([eq1, eq2])"
      ]
    },
    {
      "cell_type": "markdown",
      "metadata": {
        "id": "fDnMmCVe6ATp"
      },
      "source": [
        "---\n",
        "\n",
        "### Exercises for Students\n",
        "\n",
        "Solve the following systems of equations similarly to the example above:\n",
        "\n",
        "* $3x-2y=5, \\quad 2x+3y=7$,\n",
        "* $2x-3y=10, \\quad 4x+5y=20$,\n",
        "* $2x - y + z = 3, \\quad x + 2y - z = 1, \\quad 3x - y + 2z = 11$.\n",
        "* $2x-3y+4z+2t=2, \\quad 3x+2y-5z+3t=3, \\quad 4x-3y+2z-5t=4, \\quad 5x+4y-3z+2t=5$."
      ]
    },
    {
      "cell_type": "code",
      "source": [
        "x,y=symbols('x y')\n",
        "\n",
        "eq1=EnhancedEq(3*x-2*y,5)*3\n",
        "eq2=EnhancedEq(2*x+3*y,7)*2\n"
      ],
      "metadata": {
        "id": "Bz8Jldsy6EjF"
      },
      "execution_count": 23,
      "outputs": []
    },
    {
      "cell_type": "code",
      "source": [
        "print(\"First Equation\")\n",
        "eq1"
      ],
      "metadata": {
        "id": "GZnqRtYa6ogl",
        "outputId": "efef2fb5-8d29-45b9-d995-7b37778952a6",
        "colab": {
          "base_uri": "https://localhost:8080/",
          "height": 56
        }
      },
      "execution_count": 22,
      "outputs": [
        {
          "output_type": "stream",
          "name": "stdout",
          "text": [
            "First Equation\n"
          ]
        },
        {
          "output_type": "execute_result",
          "data": {
            "text/plain": [
              "Eq(9*x - 6*y, 15)"
            ],
            "text/latex": "$\\displaystyle 9 x - 6 y = 15$"
          },
          "metadata": {},
          "execution_count": 22
        }
      ]
    },
    {
      "cell_type": "code",
      "source": [
        "print(\"Second Equation\")\n",
        "eq2"
      ],
      "metadata": {
        "id": "sVmiwSRb6-QB",
        "outputId": "d82bd09d-dc0f-4646-e089-158a80ae28a3",
        "colab": {
          "base_uri": "https://localhost:8080/",
          "height": 56
        }
      },
      "execution_count": 24,
      "outputs": [
        {
          "output_type": "stream",
          "name": "stdout",
          "text": [
            "Second Equation\n"
          ]
        },
        {
          "output_type": "execute_result",
          "data": {
            "text/plain": [
              "Eq(4*x + 6*y, 14)"
            ],
            "text/latex": "$\\displaystyle 4 x + 6 y = 14$"
          },
          "metadata": {},
          "execution_count": 24
        }
      ]
    },
    {
      "cell_type": "code",
      "source": [
        "eq3=eq1+eq2\n",
        "eq3"
      ],
      "metadata": {
        "id": "CO81aL1uhzFt",
        "outputId": "aed27666-c4eb-445b-da0b-efdc338c1f31",
        "colab": {
          "base_uri": "https://localhost:8080/",
          "height": 39
        }
      },
      "execution_count": 25,
      "outputs": [
        {
          "output_type": "execute_result",
          "data": {
            "text/plain": [
              "Eq(13*x, 29)"
            ],
            "text/latex": "$\\displaystyle 13 x = 29$"
          },
          "metadata": {},
          "execution_count": 25
        }
      ]
    },
    {
      "cell_type": "code",
      "source": [
        "sol_x=eq3.solve_for(x)[0]\n",
        "sol_x"
      ],
      "metadata": {
        "id": "y5S2KkMGxiCj",
        "outputId": "7e95a43f-cb3b-492b-ff93-9e76bee6241e",
        "colab": {
          "base_uri": "https://localhost:8080/",
          "height": 51
        }
      },
      "execution_count": 27,
      "outputs": [
        {
          "output_type": "execute_result",
          "data": {
            "text/plain": [
              "29/13"
            ],
            "text/latex": "$\\displaystyle \\frac{29}{13}$"
          },
          "metadata": {},
          "execution_count": 27
        }
      ]
    },
    {
      "cell_type": "code",
      "source": [
        "eq2=eq2.substitute(x,sol_x)\n",
        "eq2.solve_for(y)[0]"
      ],
      "metadata": {
        "id": "NvyrX-KRx7jj",
        "outputId": "659c3f50-6370-408a-f481-31fbb5222f19",
        "colab": {
          "base_uri": "https://localhost:8080/",
          "height": 51
        }
      },
      "execution_count": 29,
      "outputs": [
        {
          "output_type": "execute_result",
          "data": {
            "text/plain": [
              "11/13"
            ],
            "text/latex": "$\\displaystyle \\frac{11}{13}$"
          },
          "metadata": {},
          "execution_count": 29
        }
      ]
    },
    {
      "cell_type": "code",
      "source": [
        "sp.solve([eq1,eq2])"
      ],
      "metadata": {
        "id": "MuPe0NiPyVuy",
        "outputId": "535ae168-549a-47c5-87bb-d5398c3cd525",
        "colab": {
          "base_uri": "https://localhost:8080/"
        }
      },
      "execution_count": 31,
      "outputs": [
        {
          "output_type": "execute_result",
          "data": {
            "text/plain": [
              "{x: 29/13, y: 11/13}"
            ]
          },
          "metadata": {},
          "execution_count": 31
        }
      ]
    },
    {
      "cell_type": "code",
      "source": [
        "x,y=symbols('x y')\n",
        "\n",
        "eq1=EnhancedEq(2*x-3*y,10)*5\n",
        "eq2=EnhancedEq(4*x+5*y,20)*3\n"
      ],
      "metadata": {
        "id": "mSWjRpO1yf19"
      },
      "execution_count": 43,
      "outputs": []
    },
    {
      "cell_type": "code",
      "source": [
        "eq3=eq1+eq2\n",
        "eq3"
      ],
      "metadata": {
        "id": "9kKKXepD0kqw",
        "outputId": "fe6d9a4c-121b-4129-ad6f-7f7f93d87ec9",
        "colab": {
          "base_uri": "https://localhost:8080/",
          "height": 39
        }
      },
      "execution_count": 44,
      "outputs": [
        {
          "output_type": "execute_result",
          "data": {
            "text/plain": [
              "Eq(22*x, 110)"
            ],
            "text/latex": "$\\displaystyle 22 x = 110$"
          },
          "metadata": {},
          "execution_count": 44
        }
      ]
    },
    {
      "cell_type": "code",
      "source": [
        "sol_x=eq3.solve_for(x)[0]\n",
        "sol_x"
      ],
      "metadata": {
        "id": "tB7kuohd06Ef",
        "outputId": "e4fba4c4-7b90-4afa-af9f-5c2404f3b1cb",
        "colab": {
          "base_uri": "https://localhost:8080/",
          "height": 37
        }
      },
      "execution_count": 45,
      "outputs": [
        {
          "output_type": "execute_result",
          "data": {
            "text/plain": [
              "5"
            ],
            "text/latex": "$\\displaystyle 5$"
          },
          "metadata": {},
          "execution_count": 45
        }
      ]
    },
    {
      "cell_type": "code",
      "source": [
        "eq2=eq2.substitute(x,sol_x)\n"
      ],
      "metadata": {
        "id": "XZG7xvOg1GsQ"
      },
      "execution_count": 47,
      "outputs": []
    },
    {
      "cell_type": "code",
      "source": [
        "eq2.solve_for(y)[0]"
      ],
      "metadata": {
        "id": "FzBRq3DF4qRW",
        "outputId": "deede27c-2296-44fc-a8f1-58234909b4de",
        "colab": {
          "base_uri": "https://localhost:8080/",
          "height": 37
        }
      },
      "execution_count": 49,
      "outputs": [
        {
          "output_type": "execute_result",
          "data": {
            "text/plain": [
              "0"
            ],
            "text/latex": "$\\displaystyle 0$"
          },
          "metadata": {},
          "execution_count": 49
        }
      ]
    },
    {
      "cell_type": "code",
      "source": [
        "sp.solve([eq1,eq2])"
      ],
      "metadata": {
        "id": "od0qmrki40tz",
        "outputId": "951deb15-b623-4816-eaa6-de04f9992ed7",
        "colab": {
          "base_uri": "https://localhost:8080/"
        }
      },
      "execution_count": 50,
      "outputs": [
        {
          "output_type": "execute_result",
          "data": {
            "text/plain": [
              "{x: 5, y: 0}"
            ]
          },
          "metadata": {},
          "execution_count": 50
        }
      ]
    },
    {
      "cell_type": "code",
      "source": [
        "x,y,z=symbols('x y z')\n",
        "\n",
        "eq1=EnhancedEq(2*x-y+z,3)\n",
        "eq2=EnhancedEq(x+2*y-z,1)\n",
        "eq3=EnhancedEq(3*x-y+2*z,11)\n"
      ],
      "metadata": {
        "id": "nIQbZ3Aq4-lx"
      },
      "execution_count": 69,
      "outputs": []
    },
    {
      "cell_type": "code",
      "source": [
        "eq4=eq1+eq2\n",
        "eq4"
      ],
      "metadata": {
        "id": "WMmwOT-D6DC-",
        "outputId": "07ea2e18-a93d-4eb5-afc8-e5145b32e9e6",
        "colab": {
          "base_uri": "https://localhost:8080/",
          "height": 39
        }
      },
      "execution_count": 70,
      "outputs": [
        {
          "output_type": "execute_result",
          "data": {
            "text/plain": [
              "Eq(3*x + y, 4)"
            ],
            "text/latex": "$\\displaystyle 3 x + y = 4$"
          },
          "metadata": {},
          "execution_count": 70
        }
      ]
    },
    {
      "cell_type": "code",
      "source": [
        "eq5=eq4+eq3\n",
        "eq5"
      ],
      "metadata": {
        "id": "4eT2QYYl8b1n",
        "outputId": "9bbee410-208b-46e3-acfa-3300ceea3b45",
        "colab": {
          "base_uri": "https://localhost:8080/",
          "height": 39
        }
      },
      "execution_count": 71,
      "outputs": [
        {
          "output_type": "execute_result",
          "data": {
            "text/plain": [
              "Eq(6*x + 2*z, 15)"
            ],
            "text/latex": "$\\displaystyle 6 x + 2 z = 15$"
          },
          "metadata": {},
          "execution_count": 71
        }
      ]
    },
    {
      "cell_type": "code",
      "source": [
        "x,y,z,t=symbols('x y z t')\n",
        "\n",
        "eq1=EnhancedEq(2*x+3*y+4*z+2*t,2)\n",
        "eq2=EnhancedEq(3*x-2*y+5*z+3*t,3)\n",
        "eq3=EnhancedEq(4*x-3*y+2*z-5*t,4)\n",
        "eq4=EnhancedEq(5*x+4*y-3*z+2*t,5)"
      ],
      "metadata": {
        "id": "SFU-QQZ0-4tn"
      },
      "execution_count": 80,
      "outputs": []
    },
    {
      "cell_type": "code",
      "source": [
        "eq1"
      ],
      "metadata": {
        "id": "bfZGGk3vAlS4",
        "outputId": "f59abde7-13ee-4698-d09a-11c8b1344657",
        "colab": {
          "base_uri": "https://localhost:8080/",
          "height": 39
        }
      },
      "execution_count": 81,
      "outputs": [
        {
          "output_type": "execute_result",
          "data": {
            "text/plain": [
              "Eq(2*t + 2*x + 3*y + 4*z, 2)"
            ],
            "text/latex": "$\\displaystyle 2 t + 2 x + 3 y + 4 z = 2$"
          },
          "metadata": {},
          "execution_count": 81
        }
      ]
    },
    {
      "cell_type": "code",
      "source": [
        "eq2"
      ],
      "metadata": {
        "id": "fAVujrcTNgOz",
        "outputId": "f2135838-2eff-47ec-8948-3deacc154dab",
        "colab": {
          "base_uri": "https://localhost:8080/",
          "height": 39
        }
      },
      "execution_count": 104,
      "outputs": [
        {
          "output_type": "execute_result",
          "data": {
            "text/plain": [
              "Eq(3*t + 3*x - 2*y + 5*z, 3)"
            ],
            "text/latex": "$\\displaystyle 3 t + 3 x - 2 y + 5 z = 3$"
          },
          "metadata": {},
          "execution_count": 104
        }
      ]
    },
    {
      "cell_type": "code",
      "source": [
        "eq3"
      ],
      "metadata": {
        "id": "1Riz-64wNhju",
        "outputId": "4f1558b3-1b0e-4e57-bc33-b0e7c86e8176",
        "colab": {
          "base_uri": "https://localhost:8080/",
          "height": 39
        }
      },
      "execution_count": 105,
      "outputs": [
        {
          "output_type": "execute_result",
          "data": {
            "text/plain": [
              "Eq(-5*t + 4*x - 3*y + 2*z, 4)"
            ],
            "text/latex": "$\\displaystyle - 5 t + 4 x - 3 y + 2 z = 4$"
          },
          "metadata": {},
          "execution_count": 105
        }
      ]
    },
    {
      "cell_type": "code",
      "source": [
        "eq4"
      ],
      "metadata": {
        "id": "6S4XUuKJNiqm",
        "outputId": "543b24b1-9d03-495d-a99f-7a297ff54742",
        "colab": {
          "base_uri": "https://localhost:8080/",
          "height": 39
        }
      },
      "execution_count": 106,
      "outputs": [
        {
          "output_type": "execute_result",
          "data": {
            "text/plain": [
              "Eq(2*t + 5*x + 4*y - 3*z, 5)"
            ],
            "text/latex": "$\\displaystyle 2 t + 5 x + 4 y - 3 z = 5$"
          },
          "metadata": {},
          "execution_count": 106
        }
      ]
    },
    {
      "cell_type": "code",
      "source": [
        "eq5=eq1+eq3\n",
        "eq5"
      ],
      "metadata": {
        "id": "MdY-qUCZNkEG",
        "outputId": "68070eaf-aeb3-4e4e-c382-7349e685a927",
        "colab": {
          "base_uri": "https://localhost:8080/",
          "height": 39
        }
      },
      "execution_count": 108,
      "outputs": [
        {
          "output_type": "execute_result",
          "data": {
            "text/plain": [
              "Eq(-3*t + 6*x + 6*z, 6)"
            ],
            "text/latex": "$\\displaystyle - 3 t + 6 x + 6 z = 6$"
          },
          "metadata": {},
          "execution_count": 108
        }
      ]
    },
    {
      "cell_type": "code",
      "source": [
        "eq6=eq2+eq4\n",
        "eq6"
      ],
      "metadata": {
        "id": "t_DtfkdPNonf",
        "outputId": "7bbc8227-43af-43bc-f7d0-957b4bba7388",
        "colab": {
          "base_uri": "https://localhost:8080/",
          "height": 39
        }
      },
      "execution_count": 111,
      "outputs": [
        {
          "output_type": "execute_result",
          "data": {
            "text/plain": [
              "Eq(5*t + 8*x + 2*y + 2*z, 8)"
            ],
            "text/latex": "$\\displaystyle 5 t + 8 x + 2 y + 2 z = 8$"
          },
          "metadata": {},
          "execution_count": 111
        }
      ]
    },
    {
      "cell_type": "code",
      "source": [
        "eq7=eq6-eq5\n",
        "eq7"
      ],
      "metadata": {
        "id": "Oxo37Cf5Nx9Y",
        "outputId": "8792bd55-256c-4c80-86c7-49d4549e5931",
        "colab": {
          "base_uri": "https://localhost:8080/",
          "height": 39
        }
      },
      "execution_count": 113,
      "outputs": [
        {
          "output_type": "execute_result",
          "data": {
            "text/plain": [
              "Eq(8*t + 2*x + 2*y - 4*z, 2)"
            ],
            "text/latex": "$\\displaystyle 8 t + 2 x + 2 y - 4 z = 2$"
          },
          "metadata": {},
          "execution_count": 113
        }
      ]
    }
  ],
  "metadata": {
    "kernelspec": {
      "display_name": "Python 3",
      "language": "python",
      "name": "python3"
    },
    "language_info": {
      "codemirror_mode": {
        "name": "ipython",
        "version": 3
      },
      "file_extension": ".py",
      "mimetype": "text/x-python",
      "name": "python",
      "nbconvert_exporter": "python",
      "pygments_lexer": "ipython3",
      "version": "3.11.9"
    },
    "colab": {
      "provenance": []
    }
  },
  "nbformat": 4,
  "nbformat_minor": 0
}